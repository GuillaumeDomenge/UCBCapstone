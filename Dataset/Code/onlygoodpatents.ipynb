{
 "cells": [
  {
   "cell_type": "code",
   "execution_count": 1,
   "metadata": {},
   "outputs": [],
   "source": [
    "import pandas as pd\n",
    "import os\n",
    "\n",
    "\n",
    "table = pd.read_csv(\"patents_inventors_dates.tsv\", sep=\"\\t\")\n",
    "df  = pd.DataFrame(table)\n",
    "dates0 = ['2022-10-18', '2019-10-15', '2019-08-27', '2019-11-05', '2019-09-03']"
   ]
  },
  {
   "cell_type": "code",
   "execution_count": 4,
   "metadata": {},
   "outputs": [
    {
     "name": "stdout",
     "output_type": "stream",
     "text": [
      "<class 'pandas.core.series.Series'>\n"
     ]
    }
   ],
   "source": [
    "df  = df.loc[df[\"patent_date\"].isin(dates0)]\n",
    "df.reset_index(drop=True)\n",
    "print(type(df.iloc[501]))\n",
    "\n",
    "def getnumim(row):\n",
    "    p1 = row[\"patent_id\"]\n",
    "    d1 = row[\"patent_date\"].replace(\"-\",\"\")\n",
    "    direct = \"/home/guillaume/Desktop/Captsone suff/Take 2/OG Patents and Inventor ID/Final_Folders/US\"+p1+\"-\"+d1\n",
    "    val = len([namef for namef in os.listdir(direct)])\n",
    "    return val"
   ]
  },
  {
   "cell_type": "code",
   "execution_count": 9,
   "metadata": {},
   "outputs": [],
   "source": [
    "df1 = df[~df.patent_id.str.get(0).isin([\"P\",\"D\",\"R\"])]"
   ]
  },
  {
   "cell_type": "code",
   "execution_count": 10,
   "metadata": {},
   "outputs": [
    {
     "name": "stdout",
     "output_type": "stream",
     "text": [
      "          Unnamed: 0 patent_id           inventor_id patent_date\n",
      "277              277  10399851      fl:wa_ln:chen-15  2019-09-03\n",
      "278              278  10399851    fl:ch_ln:chen-1399  2019-09-03\n",
      "279              279  10399851      fl:ch_ln:liu-520  2019-09-03\n",
      "280              280  10399851      fl:yu_ln:lin-229  2019-09-03\n",
      "281              281  10399851      fl:tz_ln:wang-22  2019-09-03\n",
      "...              ...       ...                   ...         ...\n",
      "21194683    21194683  10447472     fl:ma_ln:kurian-5  2019-10-15\n",
      "21195252    21195252  10441987       fl:ol_ln:baum-1  2019-10-15\n",
      "21195617    21195617  10444409  fl:br_ln:schwartz-27  2019-10-15\n",
      "21195798    21195798  10403210        fl:tu_ln:sun-6  2019-09-03\n",
      "21196258    21196258  10442005     fl:yi_ln:yang-141  2019-10-15\n",
      "\n",
      "[109432 rows x 4 columns]\n"
     ]
    }
   ],
   "source": [
    "print(df1)"
   ]
  },
  {
   "cell_type": "code",
   "execution_count": 16,
   "metadata": {},
   "outputs": [
    {
     "name": "stderr",
     "output_type": "stream",
     "text": [
      "/tmp/ipykernel_2371/3994410948.py:1: SettingWithCopyWarning: \n",
      "A value is trying to be set on a copy of a slice from a DataFrame.\n",
      "Try using .loc[row_indexer,col_indexer] = value instead\n",
      "\n",
      "See the caveats in the documentation: https://pandas.pydata.org/pandas-docs/stable/user_guide/indexing.html#returning-a-view-versus-a-copy\n",
      "  df1[\"num_im\"] = df1.apply(getnumim, axis=1)\n"
     ]
    }
   ],
   "source": [
    "df1[\"num_im\"] = df1.apply(getnumim, axis=1)"
   ]
  },
  {
   "cell_type": "code",
   "execution_count": 24,
   "metadata": {},
   "outputs": [
    {
     "name": "stdout",
     "output_type": "stream",
     "text": [
      "          Unnamed: 0 patent_id                inventor_id patent_date  num_im\n",
      "981              981  11473761            fl:da_ln:gist-1  2022-10-18      11\n",
      "982              982  11473761           fl:jo_ln:cedar-2  2022-10-18      11\n",
      "983              983  11473761        fl:me_ln:abbruzzi-1  2022-10-18      11\n",
      "984              984  11473761       fl:an_ln:ljunggren-1  2022-10-18      11\n",
      "985              985  11473761           fl:an_ln:laska-1  2022-10-18      11\n",
      "...              ...       ...                        ...         ...     ...\n",
      "21192714    21192714  10468782    fl:do_ln:steinbrecher-1  2019-11-05      11\n",
      "21193431    21193431  10468243          fl:ch_ln:lee-2315  2019-11-05      20\n",
      "21193590    21193590  10397586              fl:gu_ln:su-8  2019-08-27      53\n",
      "21194313    21194313  10403169  zywxbbws7f9oxv3dsuuw2vhe0  2019-09-03      13\n",
      "21195252    21195252  10441987            fl:ol_ln:baum-1  2019-10-15      14\n",
      "\n",
      "[56878 rows x 5 columns]\n"
     ]
    }
   ],
   "source": [
    "df2 = df1.loc[df1[\"num_im\"]>10]\n",
    "df2 = df2.loc[df2[\"num_im\"]<100]\n",
    "df2.reset_index(drop=True)\n",
    "print(df2)"
   ]
  },
  {
   "cell_type": "code",
   "execution_count": 25,
   "metadata": {},
   "outputs": [],
   "source": [
    "\n",
    "df2.to_csv(\"something.csv\",index=False)"
   ]
  }
 ],
 "metadata": {
  "kernelspec": {
   "display_name": "Python 3",
   "language": "python",
   "name": "python3"
  },
  "language_info": {
   "codemirror_mode": {
    "name": "ipython",
    "version": 3
   },
   "file_extension": ".py",
   "mimetype": "text/x-python",
   "name": "python",
   "nbconvert_exporter": "python",
   "pygments_lexer": "ipython3",
   "version": "3.10.12"
  }
 },
 "nbformat": 4,
 "nbformat_minor": 2
}
